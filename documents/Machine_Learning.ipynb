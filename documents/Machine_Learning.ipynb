{
 "cells": [
  {
   "cell_type": "code",
   "execution_count": 1,
   "metadata": {},
   "outputs": [],
   "source": [
    "import pandas as pd\n",
    "import numpy as np\n",
    "\n",
    "import matplotlib.pyplot as plt\n",
    "\n",
    "from sklearn.model_selection import GridSearchCV\n",
    "from sklearn.model_selection import RandomizedSearchCV"
   ]
  },
  {
   "cell_type": "markdown",
   "metadata": {},
   "source": [
    "## Load Clean Data"
   ]
  },
  {
   "cell_type": "code",
   "execution_count": 2,
   "metadata": {},
   "outputs": [],
   "source": [
    "data = pd.read_csv('trip_Nov_1to14_clean.csv')"
   ]
  },
  {
   "cell_type": "code",
   "execution_count": 3,
   "metadata": {},
   "outputs": [],
   "source": [
    "data = data.sample(n=10000, random_state=0)"
   ]
  },
  {
   "cell_type": "markdown",
   "metadata": {},
   "source": [
    "## Train Test Split"
   ]
  },
  {
   "cell_type": "code",
   "execution_count": 4,
   "metadata": {},
   "outputs": [],
   "source": [
    "from sklearn.model_selection import train_test_split\n",
    "\n",
    "to_drop=['trips_pooled', 'shared_trip_authorized']\n",
    "\n",
    "X=data.drop(to_drop, axis=1)\n",
    "y=data['shared_trip_authorized']"
   ]
  },
  {
   "cell_type": "code",
   "execution_count": 5,
   "metadata": {},
   "outputs": [],
   "source": [
    "\n",
    "X_train, X_test, y_train, y_test = train_test_split(X,y, test_size=0.3, random_state=0, stratify = y)\n",
    "\n",
    "X_test, X_val, y_test, y_val = train_test_split(X_train, y_train, test_size=0.5, random_state=0)"
   ]
  },
  {
   "cell_type": "markdown",
   "metadata": {},
   "source": [
    "## Baseline"
   ]
  },
  {
   "cell_type": "code",
   "execution_count": null,
   "metadata": {
    "code_folding": [
     0
    ]
   },
   "outputs": [],
   "source": [
    "# import numpy as np\n",
    "# import matplotlib.pyplot as plt\n",
    "# from sklearn.ensemble import RandomForestClassifier\n",
    "# from sklearn.ensemble import GradientBoostingClassifier\n",
    "# from sklearn.svm import SVC\n",
    "# from sklearn.model_selection import learning_curve\n",
    "# from sklearn.model_selection import ShuffleSplit\n",
    "\n",
    "\n",
    "# def plot_learning_curve(estimator, title, X, y, axes=None, ylim=None, cv=None,\n",
    "#                         n_jobs=None, train_sizes=np.linspace(.0001, .001, 10)):\n",
    "#     \"\"\"\n",
    "#     Generate 3 plots: the test and training learning curve, the training\n",
    "#     samples vs fit times curve, the fit times vs score curve.\n",
    "\n",
    "#     Parameters\n",
    "#     ----------\n",
    "#     estimator : object type that implements the \"fit\" and \"predict\" methods\n",
    "#         An object of that type which is cloned for each validation.\n",
    "\n",
    "#     title : string\n",
    "#         Title for the chart.\n",
    "\n",
    "#     X : array-like, shape (n_samples, n_features)\n",
    "#         Training vector, where n_samples is the number of samples and\n",
    "#         n_features is the number of features.\n",
    "\n",
    "#     y : array-like, shape (n_samples) or (n_samples, n_features), optional\n",
    "#         Target relative to X for classification or regression;\n",
    "#         None for unsupervised learning.\n",
    "\n",
    "#     axes : array of 3 axes, optional (default=None)\n",
    "#         Axes to use for plotting the curves.\n",
    "\n",
    "#     ylim : tuple, shape (ymin, ymax), optional\n",
    "#         Defines minimum and maximum yvalues plotted.\n",
    "\n",
    "#     cv : int, cross-validation generator or an iterable, optional\n",
    "#         Determines the cross-validation splitting strategy.\n",
    "#         Possible inputs for cv are:\n",
    "\n",
    "#           - None, to use the default 5-fold cross-validation,\n",
    "#           - integer, to specify the number of folds.\n",
    "#           - :term:`CV splitter`,\n",
    "#           - An iterable yielding (train, test) splits as arrays of indices.\n",
    "\n",
    "#         For integer/None inputs, if ``y`` is binary or multiclass,\n",
    "#         :class:`StratifiedKFold` used. If the estimator is not a classifier\n",
    "#         or if ``y`` is neither binary nor multiclass, :class:`KFold` is used.\n",
    "\n",
    "#         Refer :ref:`User Guide <cross_validation>` for the various\n",
    "#         cross-validators that can be used here.\n",
    "\n",
    "#     n_jobs : int or None, optional (default=None)\n",
    "#         Number of jobs to run in parallel.\n",
    "#         ``None`` means 1 unless in a :obj:`joblib.parallel_backend` context.\n",
    "#         ``-1`` means using all processors. See :term:`Glossary <n_jobs>`\n",
    "#         for more details.\n",
    "\n",
    "#     train_sizes : array-like, shape (n_ticks,), dtype float or int\n",
    "#         Relative or absolute numbers of training examples that will be used to\n",
    "#         generate the learning curve. If the dtype is float, it is regarded as a\n",
    "#         fraction of the maximum size of the training set (that is determined\n",
    "#         by the selected validation method), i.e. it has to be within (0, 1].\n",
    "#         Otherwise it is interpreted as absolute sizes of the training sets.\n",
    "#         Note that for classification the number of samples usually have to\n",
    "#         be big enough to contain at least one sample from each class.\n",
    "#         (default: np.linspace(0.1, 1.0, 5))\n",
    "#     \"\"\"\n",
    "#     if axes is None:\n",
    "#         _, axes = plt.subplots(1, 3, figsize=(20, 5))\n",
    "\n",
    "#     axes[0].set_title(title)\n",
    "#     if ylim is not None:\n",
    "#         axes[0].set_ylim(*ylim)\n",
    "#     axes[0].set_xlabel(\"Training examples\")\n",
    "#     axes[0].set_ylabel(\"Score\")\n",
    "\n",
    "#     train_sizes, train_scores, test_scores, fit_times, _ = \\\n",
    "#         learning_curve(estimator, X, y, cv=cv, n_jobs=n_jobs,\n",
    "#                        train_sizes=train_sizes,\n",
    "#                        return_times=True)\n",
    "#     train_scores_mean = np.mean(train_scores, axis=1)\n",
    "#     train_scores_std = np.std(train_scores, axis=1)\n",
    "#     test_scores_mean = np.mean(test_scores, axis=1)\n",
    "#     test_scores_std = np.std(test_scores, axis=1)\n",
    "#     fit_times_mean = np.mean(fit_times, axis=1)\n",
    "#     fit_times_std = np.std(fit_times, axis=1)\n",
    "\n",
    "#     # Plot learning curve\n",
    "#     axes[0].grid()\n",
    "#     axes[0].fill_between(train_sizes, train_scores_mean - train_scores_std,\n",
    "#                          train_scores_mean + train_scores_std, alpha=0.1,\n",
    "#                          color=\"r\")\n",
    "#     axes[0].fill_between(train_sizes, test_scores_mean - test_scores_std,\n",
    "#                          test_scores_mean + test_scores_std, alpha=0.1,\n",
    "#                          color=\"g\")\n",
    "#     axes[0].plot(train_sizes, train_scores_mean, 'o-', color=\"r\",\n",
    "#                  label=\"Training score\")\n",
    "#     axes[0].plot(train_sizes, test_scores_mean, 'o-', color=\"g\",\n",
    "#                  label=\"Cross-validation score\")\n",
    "#     axes[0].legend(loc=\"best\")\n",
    "\n",
    "#     # Plot n_samples vs fit_times\n",
    "#     axes[1].grid()\n",
    "#     axes[1].plot(train_sizes, fit_times_mean, 'o-')\n",
    "#     axes[1].fill_between(train_sizes, fit_times_mean - fit_times_std,\n",
    "#                          fit_times_mean + fit_times_std, alpha=0.1)\n",
    "#     axes[1].set_xlabel(\"Training examples\")\n",
    "#     axes[1].set_ylabel(\"fit_times\")\n",
    "#     axes[1].set_title(\"Scalability of the model\")\n",
    "\n",
    "#     # Plot fit_time vs score\n",
    "#     axes[2].grid()\n",
    "#     axes[2].plot(fit_times_mean, test_scores_mean, 'o-')\n",
    "#     axes[2].fill_between(fit_times_mean, test_scores_mean - test_scores_std,\n",
    "#                          test_scores_mean + test_scores_std, alpha=0.1)\n",
    "#     axes[2].set_xlabel(\"fit_times\")\n",
    "#     axes[2].set_ylabel(\"Score\")\n",
    "#     axes[2].set_title(\"Performance of the model\")\n",
    "\n",
    "#     return plt\n",
    "\n",
    "\n",
    "# fig, axes = plt.subplots(3, 2, figsize=(10, 15))\n",
    "\n",
    "\n",
    "# title = \"Learning Curves (RandomForest Classifier)\"\n",
    "# # Cross validation with 100 iterations to get smoother mean test and train\n",
    "# # score curves, each time with 20% data randomly selected as a validation set.\n",
    "# cv = ShuffleSplit(n_splits=20, test_size=0.2, random_state=0)\n",
    "\n",
    "# estimator = RandomForestClassifier()\n",
    "# plot_learning_curve(estimator, title, X, y, axes=axes[:, 0], ylim=(0.7, 1.01),\n",
    "#                     cv=cv, n_jobs=4)\n",
    "\n",
    "# title = \"Learning Curves (GradientBoostingClassifier)\"\n",
    "# cv = ShuffleSplit(n_splits=20, test_size=0.2, random_state=0)\n",
    "# estimator = GradientBoostingClassifier()\n",
    "# plot_learning_curve(estimator, title, X, y, axes=axes[:, 1], ylim=(0.7, 1.01),\n",
    "#                     cv=cv, n_jobs=4)\n",
    "\n",
    "\n",
    "\n",
    "# plt.show()"
   ]
  },
  {
   "cell_type": "code",
   "execution_count": 6,
   "metadata": {},
   "outputs": [
    {
     "name": "stdout",
     "output_type": "stream",
     "text": [
      "log_loss: 3.789397181613058\n",
      "------------------------\n",
      "train score accuracy 0.8925714285714286\n",
      "test score accuracy 0.8948571428571429\n",
      "------------------------\n",
      "train score precision 0.0\n",
      "test score precision 0.0\n",
      "------------------------\n",
      "train score recall 0.0\n",
      "test score recall 0.0\n",
      "------------------------\n",
      "\n",
      "\n",
      "              precision    recall  f1-score   support\n",
      "\n",
      "           0       0.89      1.00      0.94      3132\n",
      "           1       0.00      0.00      0.00       368\n",
      "\n",
      "    accuracy                           0.89      3500\n",
      "   macro avg       0.45      0.50      0.47      3500\n",
      "weighted avg       0.80      0.89      0.85      3500\n",
      "\n"
     ]
    },
    {
     "name": "stderr",
     "output_type": "stream",
     "text": [
      "/Users/elhamamini/opt/anaconda3/lib/python3.7/site-packages/sklearn/metrics/_classification.py:1272: UndefinedMetricWarning: Precision is ill-defined and being set to 0.0 due to no predicted samples. Use `zero_division` parameter to control this behavior.\n",
      "  _warn_prf(average, modifier, msg_start, len(result))\n",
      "/Users/elhamamini/opt/anaconda3/lib/python3.7/site-packages/sklearn/metrics/_classification.py:1272: UndefinedMetricWarning: Precision and F-score are ill-defined and being set to 0.0 in labels with no predicted samples. Use `zero_division` parameter to control this behavior.\n",
      "  _warn_prf(average, modifier, msg_start, len(result))\n"
     ]
    }
   ],
   "source": [
    "from sklearn.dummy import DummyClassifier\n",
    "\n",
    "from sklearn.metrics import classification_report\n",
    "from sklearn.metrics import precision_score\n",
    "from sklearn.metrics import recall_score\n",
    "from sklearn.metrics import log_loss\n",
    "\n",
    "\n",
    "dummy = DummyClassifier(strategy='most_frequent', random_state=0).fit(X_train, y_train)\n",
    "\n",
    "dummy_pred=dummy.predict(X_test)\n",
    "dummy_probs = dummy.predict_proba(X_test)\n",
    "\n",
    "print('log_loss:', log_loss(y_test, dummy_probs))\n",
    "print('--'*12)\n",
    "print('train score accuracy', dummy.score(X_train, y_train))\n",
    "print('test score accuracy', dummy.score(X_val, y_val))\n",
    "print('--'*12)\n",
    "\n",
    "print('train score precision', precision_score(y_val, dummy_pred))\n",
    "print('test score precision', precision_score(y_val, dummy_pred))\n",
    "print('--'*12)\n",
    "print('train score recall', recall_score(y_val, dummy_pred))\n",
    "print('test score recall', recall_score(y_val, dummy_pred))\n",
    "print('--'*12)\n",
    "print('\\n')\n",
    "print(classification_report(y_val, dummy_pred, labels=[0, 1]))\n",
    "\n"
   ]
  },
  {
   "cell_type": "code",
   "execution_count": 7,
   "metadata": {},
   "outputs": [
    {
     "name": "stdout",
     "output_type": "stream",
     "text": [
      "log_loss: 0.4744675393660643\n",
      "------------------------\n",
      "train score accuracy 0.9634285714285714\n",
      "test score accuracy 0.964\n",
      "------------------------\n",
      "train score precision 1.0\n",
      "test score precision 1.0\n",
      "------------------------\n",
      "train score recall 0.657608695652174\n",
      "test score recall 0.657608695652174\n",
      "------------------------\n",
      "\n",
      "\n",
      "              precision    recall  f1-score   support\n",
      "\n",
      "           0       0.96      1.00      0.98      3132\n",
      "           1       1.00      0.66      0.79       368\n",
      "\n",
      "    accuracy                           0.96      3500\n",
      "   macro avg       0.98      0.83      0.89      3500\n",
      "weighted avg       0.97      0.96      0.96      3500\n",
      "\n"
     ]
    }
   ],
   "source": [
    "from sklearn.ensemble import RandomForestClassifier\n",
    "\n",
    "\n",
    "\n",
    "from sklearn.metrics import classification_report\n",
    "from sklearn.metrics import precision_score\n",
    "from sklearn.metrics import recall_score\n",
    "from sklearn.metrics import log_loss\n",
    "\n",
    "\n",
    "\n",
    "\n",
    "\n",
    "rf = RandomForestClassifier(max_depth=7).fit(X_train, y_train)\n",
    "rf_pred=rf.predict(X_val)\n",
    "rf_probs = rf.predict_proba(X_val)\n",
    "\n",
    "print('log_loss:', log_loss(y_test, rf_probs))\n",
    "print('--'*12)\n",
    "print('train score accuracy', rf.score(X_train, y_train))\n",
    "print('test score accuracy', rf.score(X_val, y_val))\n",
    "print('--'*12)\n",
    "\n",
    "print('train score precision', precision_score(y_val, rf_pred))\n",
    "print('test score precision', precision_score(y_val, rf_pred))\n",
    "print('--'*12)\n",
    "print('train score recall', recall_score(y_val, rf_pred))\n",
    "print('test score recall', recall_score(y_val, rf_pred))\n",
    "print('--'*12)\n",
    "print('\\n')\n",
    "print(classification_report(y_val, rf_pred, labels=[0, 1]))"
   ]
  },
  {
   "cell_type": "code",
   "execution_count": 9,
   "metadata": {},
   "outputs": [
    {
     "data": {
      "text/plain": [
       "<AxesSubplot:>"
      ]
     },
     "execution_count": 9,
     "metadata": {},
     "output_type": "execute_result"
    },
    {
     "data": {
      "image/png": "[encoded data removed]",
      "text/plain": [
       "<Figure size 432x288 with 1 Axes>"
      ]
     },
     "metadata": {
      "needs_background": "light"
     },
     "output_type": "display_data"
    }
   ],
   "source": [
    "from sklearn.inspection import permutation_importance\n",
    "\n",
    "feat_importances = pd.Series(rf.feature_importances_, index=X.columns)\n",
    "feat_importances.nlargest(10).plot(kind='barh')\n"
   ]
  },
  {
   "cell_type": "markdown",
   "metadata": {},
   "source": [
    "## Cross Validation"
   ]
  },
  {
   "cell_type": "code",
   "execution_count": 10,
   "metadata": {},
   "outputs": [],
   "source": [
    "import pandas as pd\n",
    "import numpy as np \n",
    "import random\n",
    "\n",
    "import seaborn as sns\n",
    "import matplotlib.pyplot as plt\n",
    "%matplotlib inline\n",
    "\n",
    "from sklearn.model_selection import GridSearchCV\n",
    "from sklearn.model_selection import RandomizedSearchCV\n",
    "\n",
    "\n",
    "import warnings\n",
    "warnings.filterwarnings('ignore', category=FutureWarning)\n",
    "warnings.filterwarnings('ignore', category=DeprecationWarning)\n",
    "warnings.filterwarnings('ignore', category=RuntimeWarning)\n",
    "warnings.filterwarnings('ignore', category=UserWarning)\n",
    "\n",
    "import joblib"
   ]
  },
  {
   "cell_type": "code",
   "execution_count": 11,
   "metadata": {},
   "outputs": [],
   "source": [
    "trip_small = data.sample(n=10000, random_state=0)"
   ]
  },
  {
   "cell_type": "code",
   "execution_count": 12,
   "metadata": {},
   "outputs": [],
   "source": [
    "from sklearn.model_selection import train_test_split\n",
    "\n",
    "to_drop=['trips_pooled', 'shared_trip_authorized']\n",
    "\n",
    "X=trip_small.drop(to_drop, axis=1)\n",
    "y=trip_small['shared_trip_authorized']\n",
    "\n",
    "from sklearn.feature_selection import SelectKBest, chi2\n",
    "X_new = SelectKBest(chi2, k=5).fit_transform(X, y)\n",
    "\n",
    "\n",
    "X_train, X_test, y_train, y_test = train_test_split(X_new,y, test_size=0.3, random_state=0, stratify = y)\n",
    "\n",
    "X_test, X_val, y_test, y_val = train_test_split(X_train, y_train, test_size=0.5, random_state=0)"
   ]
  },
  {
   "cell_type": "code",
   "execution_count": 14,
   "metadata": {},
   "outputs": [
    {
     "name": "stdout",
     "output_type": "stream",
     "text": [
      "RandomForestClassifier(bootstrap=True, ccp_alpha=0.0, class_weight=None,\n",
      "                       criterion='gini', max_depth=5, max_features=5,\n",
      "                       max_leaf_nodes=None, max_samples=None,\n",
      "                       min_impurity_decrease=0.0, min_impurity_split=None,\n",
      "                       min_samples_leaf=1, min_samples_split=2,\n",
      "                       min_weight_fraction_leaf=0.0, n_estimators=50, n_jobs=1,\n",
      "                       oob_score=False, random_state=None, verbose=0,\n",
      "                       warm_start=False)\n"
     ]
    },
    {
     "data": {
      "text/plain": [
       "['models/rf_model.pkl']"
      ]
     },
     "execution_count": 14,
     "metadata": {},
     "output_type": "execute_result"
    }
   ],
   "source": [
    "from sklearn.ensemble import RandomForestClassifier\n",
    "scoring = ['precision','f1', 'recall']\n",
    "\n",
    "\n",
    "\n",
    "rf = RandomForestClassifier()\n",
    "\n",
    "parameters = {\n",
    "    'n_estimators': [5, 10, 50, 100, 200],\n",
    "    'max_depth': [1, 2, 3, 5],\n",
    "    'n_jobs': [-1, 0, 1],\n",
    "    'max_features':[1,2,3,4,5]\n",
    "    \n",
    "}\n",
    "\n",
    "cv = GridSearchCV(rf, parameters, cv=5, refit='recall', scoring=scoring)\n",
    "cv.fit(X_train,y_train)\n",
    "print(cv.best_estimator_)\n",
    "joblib.dump(cv.best_estimator_, 'models/rf_model.pkl')"
   ]
  },
  {
   "cell_type": "code",
   "execution_count": null,
   "metadata": {},
   "outputs": [],
   "source": [
    "from sklearn.linear_model import LogisticRegression\n",
    "scoring = ['precision','f1', 'recall']\n",
    "\n",
    "lr = LogisticRegression(max_iter=1000, penalty='l1', solver='liblinear', n_jobs=-1)\n",
    "\n",
    "parameters = {\n",
    "    'C': [0.1, 1]\n",
    "}\n",
    "\n",
    "\n",
    "cv = GridSearchCV(lr, parameters, cv=5, refit='recall', scoring=scoring)\n",
    "cv.fit(X_train,y_train)\n",
    "print(cv.best_estimator_)\n",
    "joblib.dump(cv.best_estimator_, 'models/lr_model.pkl')"
   ]
  },
  {
   "cell_type": "code",
   "execution_count": null,
   "metadata": {},
   "outputs": [],
   "source": [
    "from sklearn.svm import SVC\n",
    "scoring = ['precision','f1', 'recall']\n",
    "svc = SVC()\n",
    "\n",
    "parameters = {\n",
    "    'kernel': ['rbf', 'linear'],\n",
    "    'C': [0.1, 1, 10]\n",
    "}\n",
    "\n",
    "\n",
    "cv = GridSearchCV(svc, parameters, cv=5,refit='recall', scoring=scoring )\n",
    "cv.fit(X_train,y_train)\n",
    "print(cv.best_estimator_)\n",
    "joblib.dump(cv.best_estimator_, 'models/svc_model.pkl')"
   ]
  },
  {
   "cell_type": "code",
   "execution_count": null,
   "metadata": {},
   "outputs": [],
   "source": [
    "from sklearn.ensemble import GradientBoostingClassifier\n",
    "scoring = ['precision','f1', 'recall']\n",
    "\n",
    "gb = GradientBoostingClassifier()\n",
    "\n",
    "parameters = {\n",
    "    'n_estimators': [50, 100],\n",
    "    'max_depth': [3, 7],\n",
    "    'learning_rate': [0.01, 0.1, 1]\n",
    "}\n",
    "\n",
    "cv = GridSearchCV(gb, parameters, cv=5, refit='recall', scoring=scoring )\n",
    "cv.fit(X_train,y_train)\n",
    "print(cv.best_estimator_)\n",
    "joblib.dump(cv.best_estimator_, 'models/gb_model.pkl')"
   ]
  },
  {
   "cell_type": "markdown",
   "metadata": {},
   "source": [
    "## Model Selection"
   ]
  },
  {
   "cell_type": "code",
   "execution_count": null,
   "metadata": {},
   "outputs": [],
   "source": [
    "models = {}\n",
    "for mdl in ['rf', 'lr', 'svc','gb']:\n",
    "    models[mdl] = joblib.load(f'clean_data/models/{mdl}_model.pkl')"
   ]
  },
  {
   "cell_type": "code",
   "execution_count": null,
   "metadata": {},
   "outputs": [],
   "source": [
    "import numpy as np\n",
    "from time import time\n",
    "\n",
    "from sklearn.metrics import classification_report\n",
    "from sklearn.metrics import precision_score\n",
    "from sklearn.metrics import f1_score\n",
    "from sklearn.metrics import recall_score\n",
    "from sklearn.metrics import log_loss\n",
    "\n",
    "\n",
    "def evaluate_model(name, model, X_val, y_val):\n",
    "    start = time()\n",
    "    \n",
    "    pred = model.predict(X_val)\n",
    "    #probs = model.predict_proba(X_val)\n",
    "    \n",
    "    #log_loss_score = log_loss(y_val, probs)\n",
    "    accuracy = model.score(X_val, y_val)\n",
    "    precision = precision_score(y_val, pred)\n",
    "    recall = recall_score(y_val, pred)\n",
    "    f1 = f1_score(y_val, pred, average='weighted')\n",
    "    end = time()\n",
    "    \n",
    "    #print(f'{name} -- log_loss: {log_loss_score} Latency: {round(end-start, 2)}')\n",
    "    print(f'{name} -- accuracy: {accuracy} Latency: {round(end-start, 2)}')\n",
    "    print(f'{name} -- precision: {precision} Latency: {round(end-start, 2)}')\n",
    "    print(f'{name} -- recall: {recall} Latency: {round(end-start, 2)}')\n",
    "    print(f'{name} -- f1_score: {f1} Latency: {round(end-start, 2)}')\n",
    "    \n",
    "    print('--'*12)"
   ]
  },
  {
   "cell_type": "code",
   "execution_count": null,
   "metadata": {},
   "outputs": [],
   "source": [
    "for name, mdl in models.items():\n",
    "    evaluate_model(name, mdl, X_val, y_val)"
   ]
  },
  {
   "cell_type": "markdown",
   "metadata": {},
   "source": [
    "## Final Model"
   ]
  },
  {
   "cell_type": "code",
   "execution_count": null,
   "metadata": {},
   "outputs": [],
   "source": [
    "evaluate_model('gb', models['gb'], X_test, y_test)"
   ]
  },
  {
   "cell_type": "code",
   "execution_count": null,
   "metadata": {},
   "outputs": [],
   "source": [
    "from sklearn.ensemble import GradientBoostingClassifier\n",
    "percision_point = 0.75\n",
    "fpr_point = 0.16\n",
    "from sklearn.metrics import precision_recall_curve, roc_curve, auc\n",
    "\n",
    "y_lr = GradientBoostingClassifier(max_depth=7,learning_rate=0.1, n_estimators=100).fit(X_train, y_train).decision_function(X_test)\n",
    "    \n",
    "precision, recall, thresholds = precision_recall_curve(y_test, y_lr)\n",
    "closest_zero = np.argmin(np.abs(thresholds))\n",
    "closest_zero_p = precision[closest_zero]\n",
    "closest_zero_r = recall[closest_zero]\n",
    "\n",
    "\n",
    "precision_index = np.where(np.isclose(precision, percision_point))\n",
    "\n",
    "\n",
    "\n",
    "\n",
    "plt.figure(figsize=(6, 6))\n",
    "plt.xlim([0.0, 1.01])\n",
    "plt.ylim([0.0, 1.01])\n",
    "plt.plot(precision, recall, label='Precision-Recall Curve')\n",
    "plt.plot(closest_zero_p, closest_zero_r, 'o', markersize = 12, fillstyle = 'none', c='r', mew=3)\n",
    "plt.xlabel('Precision', fontsize=16)\n",
    "plt.ylabel('Recall', fontsize=16)\n",
    "plt.axes().set_aspect('equal')\n",
    "plt.show()\n",
    "plt.savefig('images/precision_recall_curve.png')\n",
    "\n",
    "fpr, tpr,_ = roc_curve(y_test, y_lr)\n",
    "roc_auc = auc(fpr, tpr)\n",
    "\n",
    "\n",
    "\n",
    "\n",
    "\n",
    "\n",
    "plt.figure(figsize=(6, 6))\n",
    "plt.xlim([-0.01, 1.00])\n",
    "plt.ylim([-0.01, 1.01])\n",
    "plt.plot(fpr, tpr, lw=3, label='Gradient Boosting ROC curve (area = {:0.2f})'.format(roc_auc))\n",
    "plt.xlabel('False Positive Rate', fontsize=16)\n",
    "plt.ylabel('True Positive Rate', fontsize=16)\n",
    "plt.title('ROC curve', fontsize=16)\n",
    "plt.legend(loc='lower right', fontsize=13)\n",
    "plt.plot([0, 1], [0, 1], color='navy', lw=3, linestyle='--')\n",
    "plt.axes().set_aspect('equal')\n",
    "plt.savefig('images/roc_curve.png')\n",
    "plt.show()\n",
    "\n",
    "\n"
   ]
  }
 ],
 "metadata": {
  "kernelspec": {
   "display_name": "Python 3",
   "language": "python",
   "name": "python3"
  },
  "language_info": {
   "codemirror_mode": {
    "name": "ipython",
    "version": 3
   },
   "file_extension": ".py",
   "mimetype": "text/x-python",
   "name": "python",
   "nbconvert_exporter": "python",
   "pygments_lexer": "ipython3",
   "version": "3.7.6"
  }
 },
 "nbformat": 4,
 "nbformat_minor": 4
}
